{
 "cells": [
  {
   "cell_type": "code",
   "execution_count": 1,
   "metadata": {},
   "outputs": [
    {
     "name": "stdout",
     "output_type": "stream",
     "text": [
      "2.2.0\n"
     ]
    }
   ],
   "source": [
    "import tensorflow as tf\n",
    "print(tf.__version__)"
   ]
  },
  {
   "cell_type": "code",
   "execution_count": 2,
   "metadata": {},
   "outputs": [],
   "source": [
    "mnist = tf.keras.datasets.fashion_mnist"
   ]
  },
  {
   "cell_type": "code",
   "execution_count": 3,
   "metadata": {},
   "outputs": [
    {
     "name": "stdout",
     "output_type": "stream",
     "text": [
      "Downloading data from https://storage.googleapis.com/tensorflow/tf-keras-datasets/train-labels-idx1-ubyte.gz\n",
      "32768/29515 [=================================] - 0s 2us/step\n",
      "Downloading data from https://storage.googleapis.com/tensorflow/tf-keras-datasets/train-images-idx3-ubyte.gz\n",
      "26427392/26421880 [==============================] - 37s 1us/step\n",
      "Downloading data from https://storage.googleapis.com/tensorflow/tf-keras-datasets/t10k-labels-idx1-ubyte.gz\n",
      "8192/5148 [===============================================] - 0s 2us/step\n",
      "Downloading data from https://storage.googleapis.com/tensorflow/tf-keras-datasets/t10k-images-idx3-ubyte.gz\n",
      "4423680/4422102 [==============================] - 6s 1us/step\n"
     ]
    }
   ],
   "source": [
    "(training_images, training_labels), (test_images, test_labels) = mnist.load_data()"
   ]
  },
  {
   "cell_type": "code",
   "execution_count": 10,
   "metadata": {},
   "outputs": [
    {
     "name": "stdout",
     "output_type": "stream",
     "text": [
      "0\n",
      "[[0.         0.         0.         0.         0.         0.\n",
      "  0.00392157 0.         0.         0.         0.         0.01176471\n",
      "  0.         0.         0.         0.         0.         0.04313725\n",
      "  0.         0.         0.         0.         0.00784314 0.\n",
      "  0.         0.         0.         0.        ]\n",
      " [0.         0.         0.         0.         0.         0.\n",
      "  0.         0.         0.         0.22745098 0.63137255 0.81568627\n",
      "  0.74117647 0.65882353 0.63529412 0.63921569 0.75294118 0.8627451\n",
      "  0.63529412 0.42745098 0.05490196 0.         0.         0.00392157\n",
      "  0.         0.         0.         0.        ]\n",
      " [0.         0.         0.         0.         0.00392157 0.\n",
      "  0.         0.50588235 0.73333333 0.81960784 0.80784314 0.77254902\n",
      "  0.81568627 0.81568627 0.78431373 0.81568627 0.81568627 0.76862745\n",
      "  0.8        0.82745098 0.79215686 0.64313725 0.         0.\n",
      "  0.         0.         0.         0.        ]\n",
      " [0.         0.         0.         0.         0.         0.\n",
      "  0.56078431 0.83921569 0.74117647 0.74117647 0.74509804 0.75294118\n",
      "  0.74117647 0.74117647 0.71372549 0.7372549  0.74509804 0.74509804\n",
      "  0.74901961 0.74117647 0.74509804 0.81568627 0.68235294 0.\n",
      "  0.         0.         0.         0.        ]\n",
      " [0.         0.         0.         0.         0.         0.01960784\n",
      "  0.75294118 0.7254902  0.73333333 0.75294118 0.74901961 0.75294118\n",
      "  0.74509804 0.74117647 0.74509804 0.7372549  0.75686275 0.76078431\n",
      "  0.74901961 0.74901961 0.75294118 0.7254902  0.78823529 0.16862745\n",
      "  0.         0.         0.         0.        ]\n",
      " [0.         0.         0.         0.         0.         0.41960784\n",
      "  0.81176471 0.74117647 0.74509804 0.75294118 0.74117647 0.7372549\n",
      "  0.74509804 0.74117647 0.74901961 0.74117647 0.74901961 0.74509804\n",
      "  0.75686275 0.76078431 0.75686275 0.74509804 0.80784314 0.51764706\n",
      "  0.         0.         0.         0.        ]\n",
      " [0.         0.         0.         0.         0.         0.60784314\n",
      "  0.83921569 0.78039216 0.7372549  0.74509804 0.73333333 0.74509804\n",
      "  0.74117647 0.74117647 0.74509804 0.74509804 0.74509804 0.74901961\n",
      "  0.74117647 0.76078431 0.75294118 0.77254902 0.82352941 0.7254902\n",
      "  0.         0.         0.         0.        ]\n",
      " [0.         0.         0.         0.         0.         0.8\n",
      "  0.81176471 0.83529412 0.70196078 0.75294118 0.74117647 0.74117647\n",
      "  0.74117647 0.74117647 0.74509804 0.74509804 0.74509804 0.74509804\n",
      "  0.74901961 0.75294118 0.70980392 0.82745098 0.80784314 0.85490196\n",
      "  0.         0.         0.         0.        ]\n",
      " [0.         0.         0.         0.         0.01176471 0.89411765\n",
      "  0.76862745 0.89019608 0.80784314 0.72156863 0.76078431 0.7372549\n",
      "  0.74509804 0.7372549  0.74509804 0.74509804 0.74117647 0.74901961\n",
      "  0.75686275 0.72156863 0.77647059 0.89803922 0.77647059 0.91372549\n",
      "  0.1254902  0.         0.         0.        ]\n",
      " [0.         0.         0.         0.         0.21960784 0.8\n",
      "  0.77254902 0.91372549 0.91764706 0.70980392 0.75294118 0.75686275\n",
      "  0.76078431 0.74901961 0.75294118 0.75686275 0.75686275 0.77254902\n",
      "  0.78823529 0.70196078 0.9372549  0.9254902  0.77647059 0.80784314\n",
      "  0.30588235 0.         0.         0.        ]\n",
      " [0.         0.         0.         0.         0.28235294 0.79607843\n",
      "  0.76470588 0.90588235 0.93333333 0.66666667 0.75686275 0.75686275\n",
      "  0.74509804 0.75686275 0.75294118 0.75294118 0.76078431 0.74901961\n",
      "  0.79215686 0.6745098  0.90196078 0.91764706 0.76862745 0.79607843\n",
      "  0.38823529 0.         0.         0.        ]\n",
      " [0.         0.         0.         0.         0.56862745 0.86666667\n",
      "  0.86666667 0.99215686 0.84705882 0.67843137 0.76862745 0.75686275\n",
      "  0.75686275 0.74901961 0.75294118 0.75294118 0.75686275 0.76470588\n",
      "  0.74117647 0.72156863 0.81176471 1.         0.87058824 0.8627451\n",
      "  0.63529412 0.         0.         0.        ]\n",
      " [0.         0.         0.         0.         0.14901961 0.27843137\n",
      "  0.26666667 0.2745098  0.1254902  0.79607843 0.76862745 0.75294118\n",
      "  0.75294118 0.74901961 0.74901961 0.75686275 0.75294118 0.77647059\n",
      "  0.7372549  0.82745098 0.20784314 0.23137255 0.27843137 0.2627451\n",
      "  0.18431373 0.         0.         0.        ]\n",
      " [0.         0.         0.         0.         0.         0.\n",
      "  0.         0.         0.         0.86666667 0.74509804 0.7372549\n",
      "  0.75294118 0.75686275 0.74901961 0.75294118 0.75686275 0.76470588\n",
      "  0.76862745 0.89019608 0.07058824 0.         0.         0.\n",
      "  0.         0.         0.         0.        ]\n",
      " [0.         0.         0.         0.         0.01960784 0.01568627\n",
      "  0.02745098 0.         0.03921569 0.88235294 0.74117647 0.73333333\n",
      "  0.76470588 0.75294118 0.74901961 0.75294118 0.76078431 0.74509804\n",
      "  0.77647059 0.79215686 0.18039216 0.         0.02352941 0.01568627\n",
      "  0.02352941 0.         0.         0.        ]\n",
      " [0.         0.         0.         0.         0.         0.\n",
      "  0.01176471 0.         0.04705882 0.74509804 0.74509804 0.74509804\n",
      "  0.74509804 0.75294118 0.75294118 0.75294118 0.76470588 0.74117647\n",
      "  0.76470588 0.81568627 0.21176471 0.         0.00784314 0.\n",
      "  0.         0.         0.         0.        ]\n",
      " [0.         0.         0.         0.         0.         0.\n",
      "  0.01568627 0.         0.02352941 0.74117647 0.7372549  0.75686275\n",
      "  0.75294118 0.74509804 0.74901961 0.76470588 0.75686275 0.75294118\n",
      "  0.74901961 0.82352941 0.23921569 0.         0.01960784 0.\n",
      "  0.         0.         0.         0.        ]\n",
      " [0.         0.         0.         0.         0.         0.\n",
      "  0.01568627 0.         0.02352941 0.74117647 0.7372549  0.75294118\n",
      "  0.75686275 0.74509804 0.75294118 0.75686275 0.75686275 0.76078431\n",
      "  0.7372549  0.8        0.25098039 0.         0.00784314 0.\n",
      "  0.         0.         0.         0.        ]\n",
      " [0.         0.         0.         0.         0.         0.\n",
      "  0.01568627 0.         0.02745098 0.74117647 0.7372549  0.75686275\n",
      "  0.75294118 0.74509804 0.76078431 0.75686275 0.75686275 0.76862745\n",
      "  0.73333333 0.8        0.32156863 0.         0.00784314 0.\n",
      "  0.         0.         0.         0.        ]\n",
      " [0.         0.         0.         0.         0.         0.\n",
      "  0.01568627 0.         0.01568627 0.7372549  0.74117647 0.75294118\n",
      "  0.75686275 0.75294118 0.76470588 0.74901961 0.75686275 0.78039216\n",
      "  0.74117647 0.78431373 0.40392157 0.         0.00784314 0.\n",
      "  0.         0.         0.         0.        ]\n",
      " [0.         0.         0.         0.         0.         0.\n",
      "  0.01176471 0.         0.         0.7254902  0.74509804 0.75294118\n",
      "  0.76078431 0.76078431 0.76862745 0.76078431 0.76078431 0.77254902\n",
      "  0.76078431 0.76470588 0.44313725 0.         0.00784314 0.\n",
      "  0.         0.         0.         0.        ]\n",
      " [0.         0.         0.         0.         0.         0.\n",
      "  0.01176471 0.         0.         0.72941176 0.74901961 0.74901961\n",
      "  0.76078431 0.76078431 0.76470588 0.76470588 0.75686275 0.74117647\n",
      "  0.75294118 0.77647059 0.43137255 0.         0.00784314 0.\n",
      "  0.         0.         0.         0.        ]\n",
      " [0.         0.         0.         0.         0.         0.\n",
      "  0.01176471 0.         0.         0.7372549  0.75686275 0.74901961\n",
      "  0.76078431 0.76078431 0.77647059 0.76078431 0.77647059 0.76862745\n",
      "  0.73333333 0.78823529 0.45098039 0.         0.00784314 0.\n",
      "  0.         0.         0.         0.        ]\n",
      " [0.         0.         0.         0.         0.         0.\n",
      "  0.01176471 0.         0.         0.7372549  0.74509804 0.75294118\n",
      "  0.75686275 0.75686275 0.76078431 0.75686275 0.76078431 0.76470588\n",
      "  0.73333333 0.77647059 0.42352941 0.         0.00392157 0.\n",
      "  0.         0.         0.         0.        ]\n",
      " [0.         0.         0.         0.         0.         0.\n",
      "  0.01176471 0.         0.00392157 0.74117647 0.74901961 0.75294118\n",
      "  0.75686275 0.76078431 0.76078431 0.76078431 0.75686275 0.76470588\n",
      "  0.74901961 0.78039216 0.48627451 0.         0.00392157 0.\n",
      "  0.         0.         0.         0.        ]\n",
      " [0.         0.         0.         0.         0.         0.\n",
      "  0.01176471 0.         0.         0.7372549  0.74117647 0.74117647\n",
      "  0.72941176 0.72941176 0.72941176 0.72941176 0.72941176 0.74509804\n",
      "  0.74117647 0.78431373 0.47843137 0.         0.00392157 0.\n",
      "  0.         0.         0.         0.        ]\n",
      " [0.         0.         0.         0.         0.         0.\n",
      "  0.01568627 0.         0.03137255 0.79215686 0.79607843 0.80392157\n",
      "  0.88627451 0.89411765 0.89803922 0.89803922 0.89803922 0.90588235\n",
      "  0.79607843 0.85098039 0.58823529 0.         0.02745098 0.\n",
      "  0.         0.         0.         0.        ]\n",
      " [0.         0.         0.         0.         0.         0.\n",
      "  0.01176471 0.         0.01568627 0.57254902 0.44705882 0.40392157\n",
      "  0.4        0.41960784 0.40784314 0.40784314 0.41568627 0.40784314\n",
      "  0.39607843 0.51764706 0.30980392 0.         0.01176471 0.\n",
      "  0.         0.         0.         0.        ]]\n"
     ]
    },
    {
     "data": {
      "image/png": "[encoded data removed]",
      "text/plain": [
       "<Figure size 432x288 with 1 Axes>"
      ]
     },
     "metadata": {
      "needs_background": "light"
     },
     "output_type": "display_data"
    }
   ],
   "source": [
    "import matplotlib.pyplot as plt\n",
    "plt.imshow(training_images[880])\n",
    "print(training_labels[880])\n",
    "print(training_images[880])"
   ]
  },
  {
   "cell_type": "code",
   "execution_count": 9,
   "metadata": {},
   "outputs": [],
   "source": [
    "training_images = training_images/255\n",
    "test_images = test_images/255"
   ]
  },
  {
   "cell_type": "code",
   "execution_count": 18,
   "metadata": {},
   "outputs": [],
   "source": [
    "model = tf.keras.models.Sequential([tf.keras.layers.Flatten(),\n",
    "                                  tf.keras.layers.Dense(128, activation=tf.nn.relu), tf.keras.layers.Dense(50, activation=tf.nn.relu),                               \n",
    "                                  tf.keras.layers.Dense(10,activation=tf.nn.softmax)])"
   ]
  },
  {
   "cell_type": "code",
   "execution_count": 19,
   "metadata": {},
   "outputs": [],
   "source": [
    "model.compile(optimizer=tf.optimizers.Adam(), loss=\"sparse_categorical_crossentropy\")"
   ]
  },
  {
   "cell_type": "code",
   "execution_count": 21,
   "metadata": {},
   "outputs": [
    {
     "name": "stdout",
     "output_type": "stream",
     "text": [
      "Epoch 1/50\n",
      "1875/1875 [==============================] - 8s 4ms/step - loss: 0.2777\n",
      "Epoch 2/50\n",
      "1875/1875 [==============================] - 8s 4ms/step - loss: 0.2674\n",
      "Epoch 3/50\n",
      "1875/1875 [==============================] - 9s 5ms/step - loss: 0.2554\n",
      "Epoch 4/50\n",
      "1875/1875 [==============================] - 10s 5ms/step - loss: 0.2456\n",
      "Epoch 5/50\n",
      "1875/1875 [==============================] - 7s 4ms/step - loss: 0.2397\n",
      "Epoch 6/50\n",
      "1875/1875 [==============================] - 7s 4ms/step - loss: 0.2310\n",
      "Epoch 7/50\n",
      "1875/1875 [==============================] - 8s 4ms/step - loss: 0.2252\n",
      "Epoch 8/50\n",
      "1875/1875 [==============================] - 9s 5ms/step - loss: 0.2166\n",
      "Epoch 9/50\n",
      "1875/1875 [==============================] - 7s 4ms/step - loss: 0.2106\n",
      "Epoch 10/50\n",
      "1875/1875 [==============================] - 6s 3ms/step - loss: 0.2055\n",
      "Epoch 11/50\n",
      "1875/1875 [==============================] - 5s 2ms/step - loss: 0.1987\n",
      "Epoch 12/50\n",
      "1875/1875 [==============================] - 5s 3ms/step - loss: 0.1952\n",
      "Epoch 13/50\n",
      "1875/1875 [==============================] - 5s 3ms/step - loss: 0.1869\n",
      "Epoch 14/50\n",
      "1875/1875 [==============================] - 6s 3ms/step - loss: 0.1825\n",
      "Epoch 15/50\n",
      "1875/1875 [==============================] - 8s 4ms/step - loss: 0.1803\n",
      "Epoch 16/50\n",
      "1875/1875 [==============================] - 8s 4ms/step - loss: 0.1737\n",
      "Epoch 17/50\n",
      "1875/1875 [==============================] - 7s 4ms/step - loss: 0.1710\n",
      "Epoch 18/50\n",
      "1875/1875 [==============================] - 7s 4ms/step - loss: 0.1673\n",
      "Epoch 19/50\n",
      "1875/1875 [==============================] - 8s 4ms/step - loss: 0.1611\n",
      "Epoch 20/50\n",
      "1875/1875 [==============================] - 6s 3ms/step - loss: 0.1609\n",
      "Epoch 21/50\n",
      "1875/1875 [==============================] - 5s 3ms/step - loss: 0.1537\n",
      "Epoch 22/50\n",
      "1875/1875 [==============================] - 6s 3ms/step - loss: 0.1520\n",
      "Epoch 23/50\n",
      "1875/1875 [==============================] - 7s 4ms/step - loss: 0.1468\n",
      "Epoch 24/50\n",
      "1875/1875 [==============================] - 5s 3ms/step - loss: 0.1452\n",
      "Epoch 25/50\n",
      "1875/1875 [==============================] - 5s 3ms/step - loss: 0.1436\n",
      "Epoch 26/50\n",
      "1875/1875 [==============================] - 6s 3ms/step - loss: 0.1401\n",
      "Epoch 27/50\n",
      "1875/1875 [==============================] - 7s 4ms/step - loss: 0.1395\n",
      "Epoch 28/50\n",
      "1875/1875 [==============================] - 6s 3ms/step - loss: 0.1350\n",
      "Epoch 29/50\n",
      "1875/1875 [==============================] - 4s 2ms/step - loss: 0.1314\n",
      "Epoch 30/50\n",
      "1875/1875 [==============================] - 4s 2ms/step - loss: 0.1276\n",
      "Epoch 31/50\n",
      "1875/1875 [==============================] - 5s 3ms/step - loss: 0.1288\n",
      "Epoch 32/50\n",
      "1875/1875 [==============================] - 6s 3ms/step - loss: 0.1236\n",
      "Epoch 33/50\n",
      "1875/1875 [==============================] - 5s 3ms/step - loss: 0.1218\n",
      "Epoch 34/50\n",
      "1875/1875 [==============================] - 4s 2ms/step - loss: 0.1181\n",
      "Epoch 35/50\n",
      "1875/1875 [==============================] - 6s 3ms/step - loss: 0.1187\n",
      "Epoch 36/50\n",
      "1875/1875 [==============================] - 7s 4ms/step - loss: 0.1162\n",
      "Epoch 37/50\n",
      "1875/1875 [==============================] - 6s 3ms/step - loss: 0.1113\n",
      "Epoch 38/50\n",
      "1875/1875 [==============================] - 5s 3ms/step - loss: 0.1131\n",
      "Epoch 39/50\n",
      "1875/1875 [==============================] - 5s 3ms/step - loss: 0.1104\n",
      "Epoch 40/50\n",
      "1875/1875 [==============================] - 6s 3ms/step - loss: 0.1089\n",
      "Epoch 41/50\n",
      "1875/1875 [==============================] - 7s 4ms/step - loss: 0.1034\n",
      "Epoch 42/50\n",
      "1875/1875 [==============================] - 5s 3ms/step - loss: 0.1042\n",
      "Epoch 43/50\n",
      "1875/1875 [==============================] - 8s 4ms/step - loss: 0.1045\n",
      "Epoch 44/50\n",
      "1875/1875 [==============================] - 7s 4ms/step - loss: 0.0997\n",
      "Epoch 45/50\n",
      "1875/1875 [==============================] - 8s 4ms/step - loss: 0.1002\n",
      "Epoch 46/50\n",
      "1875/1875 [==============================] - 7s 4ms/step - loss: 0.0976\n",
      "Epoch 47/50\n",
      "1875/1875 [==============================] - 8s 4ms/step - loss: 0.0945\n",
      "Epoch 48/50\n",
      "1875/1875 [==============================] - 8s 4ms/step - loss: 0.0944\n",
      "Epoch 49/50\n",
      "1875/1875 [==============================] - 8s 4ms/step - loss: 0.0950\n",
      "Epoch 50/50\n",
      "1875/1875 [==============================] - ETA: 0s - loss: 0.093 - 8s 4ms/step - loss: 0.0929\n"
     ]
    },
    {
     "data": {
      "text/plain": [
       "<tensorflow.python.keras.callbacks.History at 0x1a41917e8b0>"
      ]
     },
     "execution_count": 21,
     "metadata": {},
     "output_type": "execute_result"
    }
   ],
   "source": [
    "model.fit(training_images, training_labels, epochs=50)"
   ]
  },
  {
   "cell_type": "code",
   "execution_count": 22,
   "metadata": {},
   "outputs": [
    {
     "name": "stdout",
     "output_type": "stream",
     "text": [
      "313/313 [==============================] - 1s 2ms/step - loss: 0.6118\n"
     ]
    },
    {
     "data": {
      "text/plain": [
       "0.6118342876434326"
      ]
     },
     "execution_count": 22,
     "metadata": {},
     "output_type": "execute_result"
    }
   ],
   "source": [
    "model.evaluate(test_images, test_labels)"
   ]
  },
  {
   "cell_type": "code",
   "execution_count": null,
   "metadata": {},
   "outputs": [],
   "source": []
  }
 ],
 "metadata": {
  "kernelspec": {
   "display_name": "Python 3.8.3 64-bit",
   "language": "python",
   "name": "python38364bit9174c46b1a2d4c13aa081a6b0c594368"
  },
  "language_info": {
   "codemirror_mode": {
    "name": "ipython",
    "version": 3
   },
   "file_extension": ".py",
   "mimetype": "text/x-python",
   "name": "python",
   "nbconvert_exporter": "python",
   "pygments_lexer": "ipython3",
   "version": "3.8.3"
  }
 },
 "nbformat": 4,
 "nbformat_minor": 4
}
