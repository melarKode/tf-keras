{
 "cells": [
  {
   "cell_type": "code",
   "execution_count": 17,
   "metadata": {},
   "outputs": [],
   "source": [
    "import os\n",
    "\n",
    "from tensorflow.keras import layers\n",
    "from tensorflow.keras import Model\n",
    "from tensorflow.keras.applications.inception_v3 import InceptionV3"
   ]
  },
  {
   "cell_type": "code",
   "execution_count": 18,
   "metadata": {},
   "outputs": [
    {
     "name": "stdout",
     "output_type": "stream",
     "text": [
      "last layer output shape:  (None, 7, 7, 768)\n"
     ]
    }
   ],
   "source": [
    "local_weights_file = 'C:/Navneet/jupyter/datasets/inception_v3_weights_tf_dim_ordering_tf_kernels_notop.h5'\n",
    "pre_trained_model = InceptionV3(input_shape=(150,150,3),\n",
    "                               include_top=False,\n",
    "                               weights = None)\n",
    "pre_trained_model.load_weights(local_weights_file)\n",
    "\n",
    "for layer in pre_trained_model.layers:\n",
    "    layer.trainable = False\n",
    "#pre_trained_model.summary()\n",
    "\n",
    "last_layer = pre_trained_model.get_layer('mixed7')\n",
    "print('last layer output shape: ', last_layer.output_shape)\n",
    "last_output = last_layer.output"
   ]
  },
  {
   "cell_type": "code",
   "execution_count": 19,
   "metadata": {},
   "outputs": [],
   "source": [
    "from tensorflow.keras.optimizers import RMSprop\n",
    "\n",
    "x = layers.Flatten()(last_output)\n",
    "x = layers.Dense(1024, activation='relu')(x)\n",
    "x = layers.Dropout(0.2)(x)\n",
    "x = layers.Dense(1, activation='sigmoid')(x)\n",
    "\n",
    "model = Model(pre_trained_model.input, x)\n",
    "\n",
    "model.compile(optimizer=RMSprop(lr=0.0001),\n",
    "             loss='binary_crossentropy',\n",
    "             metrics=['accuracy'])"
   ]
  },
  {
   "cell_type": "code",
   "execution_count": 20,
   "metadata": {},
   "outputs": [
    {
     "name": "stdout",
     "output_type": "stream",
     "text": [
      "Found 2000 images belonging to 2 classes.\n",
      "Found 1000 images belonging to 2 classes.\n"
     ]
    }
   ],
   "source": [
    "from tensorflow.keras.preprocessing.image import ImageDataGenerator\n",
    "\n",
    "train_datagen = ImageDataGenerator(rescale=1./255,\n",
    "                                  rotation_range=40,\n",
    "                                  width_shift_range=0.2,\n",
    "                                  height_shift_range=0.2,\n",
    "                                  shear_range=0.2,\n",
    "                                  zoom_range=0.2,\n",
    "                                  horizontal_flip=True)\n",
    "test_datagen = ImageDataGenerator(rescale=1./255)\n",
    "train_generator = train_datagen.flow_from_directory('C:/Navneet/jupyter/datasets/cats_and_dogs_filtered/train',\n",
    "                                                    batch_size = 20,\n",
    "                                                    class_mode = 'binary', \n",
    "                                                    target_size = (150, 150))  \n",
    "validation_generator = test_datagen.flow_from_directory('C:/Navneet/jupyter/datasets/cats_and_dogs_filtered/validation',\n",
    "                                                    batch_size = 20,\n",
    "                                                    class_mode = 'binary', \n",
    "                                                    target_size = (150, 150))  "
   ]
  },
  {
   "cell_type": "code",
   "execution_count": 21,
   "metadata": {},
   "outputs": [
    {
     "name": "stdout",
     "output_type": "stream",
     "text": [
      "Epoch 1/20\n",
      "100/100 [==============================] - 102s 1s/step - loss: 0.3431 - accuracy: 0.8590 - val_loss: 0.1369 - val_accuracy: 0.9470\n",
      "Epoch 2/20\n",
      "100/100 [==============================] - 101s 1s/step - loss: 0.2294 - accuracy: 0.9155 - val_loss: 0.1322 - val_accuracy: 0.9480\n",
      "Epoch 3/20\n",
      "100/100 [==============================] - 101s 1s/step - loss: 0.2118 - accuracy: 0.9270 - val_loss: 0.1078 - val_accuracy: 0.9610\n",
      "Epoch 4/20\n",
      "100/100 [==============================] - 101s 1s/step - loss: 0.2056 - accuracy: 0.9205 - val_loss: 0.1022 - val_accuracy: 0.9650\n",
      "Epoch 5/20\n",
      "100/100 [==============================] - 101s 1s/step - loss: 0.1846 - accuracy: 0.9350 - val_loss: 0.0963 - val_accuracy: 0.9700\n",
      "Epoch 6/20\n",
      "100/100 [==============================] - 101s 1s/step - loss: 0.1666 - accuracy: 0.9435 - val_loss: 0.1355 - val_accuracy: 0.9620\n",
      "Epoch 7/20\n",
      "100/100 [==============================] - 101s 1s/step - loss: 0.1649 - accuracy: 0.9375 - val_loss: 0.1706 - val_accuracy: 0.9510\n",
      "Epoch 8/20\n",
      "100/100 [==============================] - 101s 1s/step - loss: 0.1803 - accuracy: 0.9415 - val_loss: 0.1146 - val_accuracy: 0.9610\n",
      "Epoch 9/20\n",
      "100/100 [==============================] - 101s 1s/step - loss: 0.1556 - accuracy: 0.9460 - val_loss: 0.0968 - val_accuracy: 0.9700\n",
      "Epoch 10/20\n",
      "100/100 [==============================] - 101s 1s/step - loss: 0.1624 - accuracy: 0.9450 - val_loss: 0.1949 - val_accuracy: 0.9370\n",
      "Epoch 11/20\n",
      "100/100 [==============================] - 101s 1s/step - loss: 0.1608 - accuracy: 0.9465 - val_loss: 0.0987 - val_accuracy: 0.9720\n",
      "Epoch 12/20\n",
      "100/100 [==============================] - 101s 1s/step - loss: 0.1460 - accuracy: 0.9500 - val_loss: 0.1114 - val_accuracy: 0.9700\n",
      "Epoch 13/20\n",
      "100/100 [==============================] - 102s 1s/step - loss: 0.1463 - accuracy: 0.9535 - val_loss: 0.1131 - val_accuracy: 0.9670\n",
      "Epoch 14/20\n",
      "100/100 [==============================] - 102s 1s/step - loss: 0.1488 - accuracy: 0.9515 - val_loss: 0.1521 - val_accuracy: 0.9600\n",
      "Epoch 15/20\n",
      "100/100 [==============================] - 101s 1s/step - loss: 0.1554 - accuracy: 0.9470 - val_loss: 0.1138 - val_accuracy: 0.9680\n",
      "Epoch 16/20\n",
      "100/100 [==============================] - 101s 1s/step - loss: 0.1311 - accuracy: 0.9570 - val_loss: 0.1111 - val_accuracy: 0.9700\n",
      "Epoch 17/20\n",
      "100/100 [==============================] - 101s 1s/step - loss: 0.1194 - accuracy: 0.9580 - val_loss: 0.1200 - val_accuracy: 0.9700\n",
      "Epoch 18/20\n",
      "100/100 [==============================] - 100s 1s/step - loss: 0.1433 - accuracy: 0.9550 - val_loss: 0.1094 - val_accuracy: 0.9690\n",
      "Epoch 19/20\n",
      "100/100 [==============================] - 101s 1s/step - loss: 0.1160 - accuracy: 0.9640 - val_loss: 0.2115 - val_accuracy: 0.9530\n",
      "Epoch 20/20\n",
      "100/100 [==============================] - 100s 998ms/step - loss: 0.1219 - accuracy: 0.9595 - val_loss: 0.1606 - val_accuracy: 0.9610\n"
     ]
    }
   ],
   "source": [
    "history=  model.fit(train_generator,\n",
    "                   validation_data = validation_generator,\n",
    "                   steps_per_epoch = 100,\n",
    "                   epochs= 20,\n",
    "                   validation_steps=50,\n",
    "                   verbose=)"
   ]
  },
  {
   "cell_type": "code",
   "execution_count": 22,
   "metadata": {},
   "outputs": [
    {
     "data": {
      "image/png": "[encoded data removed]",
      "text/plain": [
       "<Figure size 432x288 with 1 Axes>"
      ]
     },
     "metadata": {
      "needs_background": "light"
     },
     "output_type": "display_data"
    },
    {
     "data": {
      "text/plain": [
       "<Figure size 432x288 with 0 Axes>"
      ]
     },
     "metadata": {},
     "output_type": "display_data"
    }
   ],
   "source": [
    "import matplotlib.pyplot as plt\n",
    "acc = history.history['accuracy']\n",
    "val_acc = history.history['val_accuracy']\n",
    "loss = history.history['loss']\n",
    "val_loss = history.history['val_loss']\n",
    "\n",
    "epochs = range(len(acc))\n",
    "\n",
    "plt.plot(epochs, acc, 'r', label='Training accuracy')\n",
    "plt.plot(epochs, val_acc, 'b', label='Validation accuracy')\n",
    "plt.title('Training and validation accuracy')\n",
    "plt.legend(loc=0)\n",
    "plt.figure()\n",
    "\n",
    "plt.show()"
   ]
  },
  {
   "cell_type": "code",
   "execution_count": null,
   "metadata": {},
   "outputs": [],
   "source": []
  }
 ],
 "metadata": {
  "kernelspec": {
   "display_name": "Python 3.8.3 64-bit",
   "language": "python",
   "name": "python38364bit9174c46b1a2d4c13aa081a6b0c594368"
  },
  "language_info": {
   "codemirror_mode": {
    "name": "ipython",
    "version": 3
   },
   "file_extension": ".py",
   "mimetype": "text/x-python",
   "name": "python",
   "nbconvert_exporter": "python",
   "pygments_lexer": "ipython3",
   "version": "3.8.3"
  }
 },
 "nbformat": 4,
 "nbformat_minor": 4
}
