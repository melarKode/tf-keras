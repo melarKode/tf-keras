{
 "cells": [
  {
   "cell_type": "code",
   "execution_count": 6,
   "metadata": {},
   "outputs": [],
   "source": [
    "import tensorflow as tf\n",
    "from os import path, getcwd, chdir\n",
    "\n",
    "class callback(tf.keras.callbacks.Callback):\n",
    "    def on_epoch_end(self, epoch, logs={}):\n",
    "        if(logs.get('accuracy')>0.99):\n",
    "            print(\"\\nReached 99% accuracy so cancelling training!\\n\")\n",
    "            self.model.stop_training= True\n",
    "path= f\"{getcwd()}/../../users/navne/downloads/mnist.npz\""
   ]
  },
  {
   "cell_type": "code",
   "execution_count": 12,
   "metadata": {},
   "outputs": [],
   "source": [
    "def train_mnist():\n",
    "    mnist = tf.keras.datasets.mnist\n",
    "    (x_train, y_train),(x_test, y_test) = mnist.load_data(path=path)\n",
    "    x_train, x_test = x_train/255, x_test/255   \n",
    "    callbacks = callback()\n",
    "    model = tf.keras.models.Sequential([\n",
    "        tf.keras.layers.Flatten(input_shape=(28,28)),\n",
    "        tf.keras.layers.Dense(512, activation=tf.nn.relu),\n",
    "        tf.keras.layers.Dense(10, activation=tf.nn.softmax),\n",
    "    ])\n",
    "    model.compile(optimizer=\"adam\",loss=\"sparse_categorical_crossentropy\", metrics=['accuracy'])\n",
    "    history = model.fit(x_train, y_train, epochs = 10, callbacks = [callbacks])\n",
    "    return history.epoch, history.history['accuracy'][-1]"
   ]
  },
  {
   "cell_type": "code",
   "execution_count": 13,
   "metadata": {},
   "outputs": [
    {
     "name": "stdout",
     "output_type": "stream",
     "text": [
      "Epoch 1/10\n",
      "1875/1875 [==============================] - 14s 8ms/step - loss: 0.1988 - accuracy: 0.9415\n",
      "Epoch 2/10\n",
      "1875/1875 [==============================] - 13s 7ms/step - loss: 0.0783 - accuracy: 0.9763\n",
      "Epoch 3/10\n",
      "1875/1875 [==============================] - 9s 5ms/step - loss: 0.0533 - accuracy: 0.9831\n",
      "Epoch 4/10\n",
      "1875/1875 [==============================] - 11s 6ms/step - loss: 0.0359 - accuracy: 0.9888\n",
      "Epoch 5/10\n",
      "1874/1875 [============================>.] - ETA: 0s - loss: 0.0265 - accuracy: 0.9918\n",
      "Reached 99% accuracy so cancelling training!\n",
      "\n",
      "1875/1875 [==============================] - 11s 6ms/step - loss: 0.0265 - accuracy: 0.9918\n"
     ]
    },
    {
     "data": {
      "text/plain": [
       "([0, 1, 2, 3, 4], 0.9918000102043152)"
      ]
     },
     "execution_count": 13,
     "metadata": {},
     "output_type": "execute_result"
    }
   ],
   "source": [
    "train_mnist()"
   ]
  },
  {
   "cell_type": "code",
   "execution_count": null,
   "metadata": {},
   "outputs": [],
   "source": []
  }
 ],
 "metadata": {
  "kernelspec": {
   "display_name": "Python 3.8.3 64-bit",
   "language": "python",
   "name": "python38364bit9174c46b1a2d4c13aa081a6b0c594368"
  },
  "language_info": {
   "codemirror_mode": {
    "name": "ipython",
    "version": 3
   },
   "file_extension": ".py",
   "mimetype": "text/x-python",
   "name": "python",
   "nbconvert_exporter": "python",
   "pygments_lexer": "ipython3",
   "version": "3.8.3"
  }
 },
 "nbformat": 4,
 "nbformat_minor": 4
}
